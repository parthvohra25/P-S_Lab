{
  "nbformat": 4,
  "nbformat_minor": 0,
  "metadata": {
    "colab": {
      "provenance": [],
      "collapsed_sections": []
    },
    "kernelspec": {
      "name": "ir",
      "display_name": "R"
    },
    "language_info": {
      "name": "R"
    }
  },
  "cells": [
    {
      "cell_type": "code",
      "execution_count": null,
      "metadata": {
        "colab": {
          "base_uri": "https://localhost:8080/"
        },
        "id": "MX8L619_sC4U",
        "outputId": "682f022f-9ada-4e13-b5fa-af0b60ba15dc"
      },
      "outputs": [
        {
          "output_type": "stream",
          "name": "stderr",
          "text": [
            "Loading required package: pracma\n",
            "\n",
            "Warning message in library(package, lib.loc = lib.loc, character.only = TRUE, logical.return = TRUE, :\n",
            "“there is no package called ‘pracma’”\n",
            "Installing package into ‘/usr/local/lib/R/site-library’\n",
            "(as ‘lib’ is unspecified)\n",
            "\n"
          ]
        }
      ],
      "source": [
        "if(!require('pracma'))\n",
        "{\n",
        "    install.packages('pracma')\n",
        "    library('pracma')\n",
        "}"
      ]
    },
    {
      "cell_type": "markdown",
      "source": [
        "question 1"
      ],
      "metadata": {
        "id": "JzuRCDt-sFvz"
      }
    },
    {
      "cell_type": "code",
      "source": [
        "f<-function(x,y){  #a\n",
        "  2*(2*x+3*y)/5\n",
        "}\n",
        "i<-integral2(f,xmin=0,xmax=1,ymin=0,ymax=1)\n",
        "print(i$Q)\n",
        "fy<-function(y){   #b\n",
        "  2*(2+3*y)/5\n",
        "}\n",
        "i1<-integral(fy,0,1)\n",
        "print(i1)\n",
        "fx<-function(x){   #c\n",
        "  4*x/5\n",
        "}\n",
        "i2<-integral(fx,0,1)\n",
        "print(i2)\n",
        "f1<-function(x,y){   #d\n",
        "  x*y*2*(2*x+3*y)/5\n",
        "}\n",
        "i3<-integral2(f1,xmin=0,xmax=1,ymin=0,ymax=1)\n",
        "print(i3)\n",
        "print(i3$Q)"
      ],
      "metadata": {
        "colab": {
          "base_uri": "https://localhost:8080/"
        },
        "id": "H2JHVVlusIXu",
        "outputId": "effd2b84-a1c4-456d-fc6f-da03213ae789"
      },
      "execution_count": null,
      "outputs": [
        {
          "output_type": "stream",
          "name": "stdout",
          "text": [
            "[1] 1\n",
            "[1] 1.4\n",
            "[1] 0.4\n",
            "$Q\n",
            "[1] 0.3333333\n",
            "\n",
            "$error\n",
            "[1] 4.510281e-17\n",
            "\n",
            "[1] 0.3333333\n"
          ]
        }
      ]
    },
    {
      "cell_type": "markdown",
      "source": [
        "(a) here we simply checked if it is a joint probability distribution function if the value of integral is 1.\n",
        "(b) for marginal function at x we find f(y) and integrate it over all values of x.\n",
        "(c) for marginal function at y we find f(x) and integrate it over all values of y.\n",
        "(d) expected value is integration of(xyf(xy))"
      ],
      "metadata": {
        "id": "vN35zTFnsnh3"
      }
    },
    {
      "cell_type": "markdown",
      "source": [
        "question 2:"
      ],
      "metadata": {
        "id": "NpYEKdTFvK1E"
      }
    },
    {
      "cell_type": "code",
      "source": [
        "f<-function(x,y){  #a\n",
        "  (x+y)/30\n",
        "}\n",
        "x<-c(0:3)\n",
        "y<-c(0:2)\n",
        "m<-matrix(c(f(0,0:2),f(1,0:2),f(2,0:2),f(3,0:2)),nrow=4,ncol=3,byrow=TRUE)\n",
        "print(m)\n",
        "print(sum(m)) #b\n",
        "g<-apply(m,1,sum)   #(c) row wise sum print\n",
        "print(g)\n",
        "h<-apply(m,2,sum)   #(d) column wise print\n",
        "print(h)\n",
        "ans<-f(0,1)/h[2]\n",
        "print(ans)          #(e)\n",
        "ex<-sum(x*g)\n",
        "print(ex)        #(f)\n",
        "ey<-sum(y*h)\n",
        "print(ey)\n",
        "f1<-function(x,y){\n",
        "  x*y*(x+y)/30\n",
        "}\n",
        "m1<-matrix(c(f1(0,0:2),f1(1,0:2),f1(2,0:2),f1(3,0:2)),nrow=4,ncol=3,byrow=TRUE)\n",
        "exy<-sum(m1)\n",
        "print(exy)\n",
        "ex2<-sum(x*x*g)\n",
        "varx<-ex2-(ex*ex)\n",
        "print(varx)\n",
        "ey2<-sum(y*y*h)\n",
        "vary<-ey2-(ey*ey)\n",
        "print(vary)\n",
        "covar<-exy-ex*ey\n",
        "print(covar)\n",
        "cc<-covar/sqrt(varx*vary)\n",
        "print(cc)"
      ],
      "metadata": {
        "colab": {
          "base_uri": "https://localhost:8080/"
        },
        "id": "KwOPnekEtAKN",
        "outputId": "03be6a99-0401-4af6-a2fb-b19916e1968f"
      },
      "execution_count": 15,
      "outputs": [
        {
          "output_type": "stream",
          "name": "stdout",
          "text": [
            "           [,1]       [,2]       [,3]\n",
            "[1,] 0.00000000 0.03333333 0.06666667\n",
            "[2,] 0.03333333 0.06666667 0.10000000\n",
            "[3,] 0.06666667 0.10000000 0.13333333\n",
            "[4,] 0.10000000 0.13333333 0.16666667\n",
            "[1] 1\n",
            "[1] 0.1 0.2 0.3 0.4\n",
            "[1] 0.2000000 0.3333333 0.4666667\n",
            "[1] 0.1\n",
            "[1] 2\n",
            "[1] 1.266667\n",
            "[1] 2.4\n",
            "[1] 1\n",
            "[1] 0.5955556\n",
            "[1] -0.1333333\n",
            "[1] -0.1727737\n"
          ]
        }
      ]
    },
    {
      "cell_type": "markdown",
      "source": [
        "(a) we have calculated f(x,y) for every x and y where rows correspond to x and columns correspond to y.\n",
        "(b) to check if it is a joint mass function then its sum of f(x,y) at all x and y is 1.\n",
        "(c) for marginal function of x we calculate row wise sum.\n",
        "(d) for marginal function of y we calculate column wise sum.\n",
        "(e) to find conditional probability we will calculate the probability when both x=0 and y=1 divided by probability when y is 1 ie marginal distribution of y at 1.\n",
        "(f) expected value of x=x*g\n",
        "expected value of y=y*h\n",
        "variance of x=ex2-(ex)^2\n",
        "covariance=exy-ex*ey\n",
        "correlation coefficient=covariance/sqrt(varx*vary)\n"
      ],
      "metadata": {
        "id": "016wq7CLzgxp"
      }
    }
  ]
}