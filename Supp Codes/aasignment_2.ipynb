{
  "nbformat": 4,
  "nbformat_minor": 0,
  "metadata": {
    "colab": {
      "provenance": [],
      "collapsed_sections": []
    },
    "kernelspec": {
      "name": "python3",
      "display_name": "Python 3"
    },
    "language_info": {
      "name": "python"
    }
  },
  "cells": [
    {
      "cell_type": "code",
      "execution_count": null,
      "metadata": {
        "id": "QAljINrpDBkx"
      },
      "outputs": [],
      "source": [
        "%load_ext rpy2.ipython"
      ]
    },
    {
      "cell_type": "code",
      "source": [
        "%%R\n",
        "popn<-c(rep(\"g\",20),rep(\"s\",30),rep(\"b\",50))\n",
        "sample(popn,10)"
      ],
      "metadata": {
        "id": "Pzrgk4F-DMjj"
      },
      "execution_count": null,
      "outputs": []
    },
    {
      "cell_type": "code",
      "source": [
        "%%R\n",
        "chances <-c(\"success\",\"failure\")\n",
        "sample(chances,10,replace=TRUE,prob = c(0.9,0.1))"
      ],
      "metadata": {
        "colab": {
          "base_uri": "https://localhost:8080/"
        },
        "id": "ME3AzbJsDiox",
        "outputId": "79fa6c5e-9acc-410f-a946-ec34ed5608d5"
      },
      "execution_count": null,
      "outputs": [
        {
          "output_type": "stream",
          "name": "stdout",
          "text": [
            " [1] \"success\" \"success\" \"success\" \"success\" \"success\" \"success\" \"success\"\n",
            " [8] \"success\" \"success\" \"success\"\n"
          ]
        }
      ]
    },
    {
      "cell_type": "code",
      "source": [
        "%%R\n",
        "prob<-pbirthday(20,classes=365,coincident=2)\n",
        "prob"
      ],
      "metadata": {
        "colab": {
          "base_uri": "https://localhost:8080/"
        },
        "id": "WQ43O5d_EE5t",
        "outputId": "4a2b11e0-3aa5-4692-eee9-9310a7a5ae74"
      },
      "execution_count": null,
      "outputs": [
        {
          "output_type": "stream",
          "name": "stdout",
          "text": [
            "[1] 0.4114384\n"
          ]
        }
      ]
    },
    {
      "cell_type": "code",
      "source": [
        "%%R\n",
        "numofppl<-qbirthday(prob=0.5,classes=365,coincident=2)\n",
        "numofppl"
      ],
      "metadata": {
        "colab": {
          "base_uri": "https://localhost:8080/"
        },
        "id": "F8MT4GD6EV_F",
        "outputId": "e8fb6bb8-120e-4f07-8a0d-e278e6d0d690"
      },
      "execution_count": null,
      "outputs": [
        {
          "output_type": "stream",
          "name": "stdout",
          "text": [
            "[1] 23\n"
          ]
        }
      ]
    },
    {
      "cell_type": "code",
      "source": [
        "from IPython.core.display import ProgressBar\n",
        "%%R\n",
        "bayesTheorem<-function(pA,pB,pBA)\n",
        "{\n",
        "    pAB<-pA*pBA/pB\n",
        " return(pAB)\n",
        "}\n",
        "p_cloud<-0.4\n",
        "p_rain<-0.2\n",
        "p_clouds_rain<-0.85\n",
        "bayesTheorem(p_rain,p_cloudy,p_clouds_rain)"
      ],
      "metadata": {
        "colab": {
          "base_uri": "https://localhost:8080/",
          "height": 130
        },
        "id": "Mh6o5FskEnP7",
        "outputId": "8049c9a1-1f59-49cf-af70-8ab11cac8449"
      },
      "execution_count": null,
      "outputs": [
        {
          "output_type": "error",
          "ename": "SyntaxError",
          "evalue": "ignored",
          "traceback": [
            "\u001b[0;36m  File \u001b[0;32m\"<ipython-input-11-d9790cabf5d1>\"\u001b[0;36m, line \u001b[0;32m6\u001b[0m\n\u001b[0;31m    return(pAB)\u001b[0m\n\u001b[0m         ^\u001b[0m\n\u001b[0;31mSyntaxError\u001b[0m\u001b[0;31m:\u001b[0m invalid syntax\n"
          ]
        }
      ]
    },
    {
      "cell_type": "code",
      "source": [
        "%%R\n",
        "data(\"iris\")\n",
        "head(iris)"
      ],
      "metadata": {
        "colab": {
          "base_uri": "https://localhost:8080/"
        },
        "id": "9H5TZu5VFcm8",
        "outputId": "60899ff9-be5c-4338-e975-ca9e848904e0"
      },
      "execution_count": null,
      "outputs": [
        {
          "output_type": "stream",
          "name": "stdout",
          "text": [
            "  Sepal.Length Sepal.Width Petal.Length Petal.Width Species\n",
            "1          5.1         3.5          1.4         0.2  setosa\n",
            "2          4.9         3.0          1.4         0.2  setosa\n",
            "3          4.7         3.2          1.3         0.2  setosa\n",
            "4          4.6         3.1          1.5         0.2  setosa\n",
            "5          5.0         3.6          1.4         0.2  setosa\n",
            "6          5.4         3.9          1.7         0.4  setosa\n"
          ]
        }
      ]
    },
    {
      "cell_type": "code",
      "source": [
        "%%R\n",
        "data(\"iris\")\n",
        "str(iris)"
      ],
      "metadata": {
        "colab": {
          "base_uri": "https://localhost:8080/"
        },
        "id": "DAFmNWxjFmX5",
        "outputId": "9702f6ef-24bf-482f-b0b7-b2dd868a560a"
      },
      "execution_count": null,
      "outputs": [
        {
          "output_type": "stream",
          "name": "stdout",
          "text": [
            "'data.frame':\t150 obs. of  5 variables:\n",
            " $ Sepal.Length: num  5.1 4.9 4.7 4.6 5 5.4 4.6 5 4.4 4.9 ...\n",
            " $ Sepal.Width : num  3.5 3 3.2 3.1 3.6 3.9 3.4 3.4 2.9 3.1 ...\n",
            " $ Petal.Length: num  1.4 1.4 1.3 1.5 1.4 1.7 1.4 1.5 1.4 1.5 ...\n",
            " $ Petal.Width : num  0.2 0.2 0.2 0.2 0.2 0.4 0.3 0.2 0.2 0.1 ...\n",
            " $ Species     : Factor w/ 3 levels \"setosa\",\"versicolor\",..: 1 1 1 1 1 1 1 1 1 1 ...\n"
          ]
        }
      ]
    },
    {
      "cell_type": "code",
      "source": [
        "%%R\n",
        "data(\"iris\")\n",
        "x1<-iris$Sepal.Length\n",
        "x1\n",
        "diff(range(x1))"
      ],
      "metadata": {
        "colab": {
          "base_uri": "https://localhost:8080/"
        },
        "id": "BrTvautEFrnt",
        "outputId": "8be33519-a306-4efa-f361-3a65f5116611"
      },
      "execution_count": null,
      "outputs": [
        {
          "output_type": "stream",
          "name": "stdout",
          "text": [
            "[1] 3.6\n"
          ]
        }
      ]
    },
    {
      "cell_type": "code",
      "source": [
        "%%R\n",
        "data(\"iris\")\n",
        "x1<-iris$Sepal.Length\n",
        "x1\n",
        "mean(x1)\n"
      ],
      "metadata": {
        "colab": {
          "base_uri": "https://localhost:8080/"
        },
        "id": "_Uh4CA_0F6kB",
        "outputId": "e34d0785-5cba-4870-e49e-42235b5e8206"
      },
      "execution_count": null,
      "outputs": [
        {
          "output_type": "stream",
          "name": "stdout",
          "text": [
            "[1] 5.843333\n"
          ]
        }
      ]
    },
    {
      "cell_type": "code",
      "source": [
        "%%R\n",
        "data(\"iris\")\n",
        "x1<-iris$Sepal.Length\n",
        "x1\n",
        "median(x1)"
      ],
      "metadata": {
        "colab": {
          "base_uri": "https://localhost:8080/"
        },
        "id": "oiaosIInGSYC",
        "outputId": "6e0d9ae6-aa9a-4d3f-9e6b-98c13471436e"
      },
      "execution_count": null,
      "outputs": [
        {
          "output_type": "stream",
          "name": "stdout",
          "text": [
            "[1] 5.8\n"
          ]
        }
      ]
    },
    {
      "cell_type": "code",
      "source": [
        "%%R\n",
        "data(\"iris\")\n",
        "x1<-iris$Sepal.Length\n",
        "x1\n",
        "v1<-quantile(x1,0.25)\n",
        "v1\n",
        "v2<-quantile(x1,0.75)\n",
        "v2\n",
        "interqrange<-v2-v1\n",
        "interqrange"
      ],
      "metadata": {
        "colab": {
          "base_uri": "https://localhost:8080/"
        },
        "id": "X1ZIFOHSGXK1",
        "outputId": "b9886db3-1709-4f3b-98aa-43f62103e6d5"
      },
      "execution_count": null,
      "outputs": [
        {
          "output_type": "stream",
          "name": "stdout",
          "text": [
            "75% \n",
            "1.3 \n"
          ]
        }
      ]
    },
    {
      "cell_type": "code",
      "source": [
        "%%R\n",
        "data(\"iris\")\n",
        "x1<-iris$Sepal.Length\n",
        "x1\n",
        "sd(x1)\n",
        "var(x1)"
      ],
      "metadata": {
        "colab": {
          "base_uri": "https://localhost:8080/"
        },
        "id": "XAWM9b5MGuPd",
        "outputId": "1542ee8e-5efa-4e8b-dc78-02d58f458334"
      },
      "execution_count": null,
      "outputs": [
        {
          "output_type": "stream",
          "name": "stdout",
          "text": [
            "[1] 0.6856935\n"
          ]
        }
      ]
    },
    {
      "cell_type": "code",
      "source": [
        "%%R\n",
        "x2<-iris$Sepal.Width\n",
        "x2\n",
        "diff(range(x2))"
      ],
      "metadata": {
        "colab": {
          "base_uri": "https://localhost:8080/"
        },
        "id": "ddwG-GiqG0kU",
        "outputId": "595e2c6e-2c00-4807-ee5b-e2e849998d8f"
      },
      "execution_count": null,
      "outputs": [
        {
          "output_type": "stream",
          "name": "stdout",
          "text": [
            "[1] 2.4\n"
          ]
        }
      ]
    },
    {
      "cell_type": "code",
      "source": [
        "%%R\n",
        "x2<-iris$Sepal.Width\n",
        "x2\n",
        "mean(x2)"
      ],
      "metadata": {
        "colab": {
          "base_uri": "https://localhost:8080/"
        },
        "id": "eAtrU3-mHBal",
        "outputId": "1f1424c8-32a7-4011-b83f-c152e6e3a27a"
      },
      "execution_count": null,
      "outputs": [
        {
          "output_type": "stream",
          "name": "stdout",
          "text": [
            "[1] 3.057333\n"
          ]
        }
      ]
    },
    {
      "cell_type": "code",
      "source": [
        "%%R\n",
        "x2<-iris$Sepal.Width\n",
        "x2\n",
        "median(x2)"
      ],
      "metadata": {
        "colab": {
          "base_uri": "https://localhost:8080/"
        },
        "id": "G4-C3WGyHD1g",
        "outputId": "e03fc92f-f5c8-49d9-804e-eb8fc3912e84"
      },
      "execution_count": null,
      "outputs": [
        {
          "output_type": "stream",
          "name": "stdout",
          "text": [
            "[1] 3\n"
          ]
        }
      ]
    },
    {
      "cell_type": "code",
      "source": [
        "%%R\n",
        "x2<-iris$Sepal.Width\n",
        "x2\n",
        "v1<-quantile(x2,0.25)\n",
        "v1\n",
        "v2<-quantile(x2,0.75)\n",
        "v2\n",
        "interqrange<-v2-v1\n",
        "interqrange"
      ],
      "metadata": {
        "colab": {
          "base_uri": "https://localhost:8080/"
        },
        "id": "8dbmXyaQHNdH",
        "outputId": "cf32f9dd-2ac5-447b-e939-6f4129715e65"
      },
      "execution_count": null,
      "outputs": [
        {
          "output_type": "stream",
          "name": "stdout",
          "text": [
            "75% \n",
            "0.5 \n"
          ]
        }
      ]
    },
    {
      "cell_type": "code",
      "source": [
        "%%R\n",
        "x2<-iris$Sepal.Width\n",
        "x2\n",
        "sd(x2)\n",
        "var(x2)"
      ],
      "metadata": {
        "colab": {
          "base_uri": "https://localhost:8080/"
        },
        "id": "9cEDIQKnHd-4",
        "outputId": "4c8842b6-7d09-4036-b189-713fb9f70320"
      },
      "execution_count": null,
      "outputs": [
        {
          "output_type": "stream",
          "name": "stdout",
          "text": [
            "[1] 0.1899794\n"
          ]
        }
      ]
    },
    {
      "cell_type": "code",
      "source": [
        "%%R\n",
        "x3<-iris$Petal.Length\n",
        "x3\n",
        "diff(range(x3))"
      ],
      "metadata": {
        "colab": {
          "base_uri": "https://localhost:8080/"
        },
        "id": "Pr9VVYCZHhwq",
        "outputId": "ff6777c5-016b-4595-f377-e203507b08cc"
      },
      "execution_count": null,
      "outputs": [
        {
          "output_type": "stream",
          "name": "stdout",
          "text": [
            "[1] 5.9\n"
          ]
        }
      ]
    },
    {
      "cell_type": "code",
      "source": [
        "%%R\n",
        "x3<-iris$Petal.Length\n",
        "x3\n",
        "mean(x3)"
      ],
      "metadata": {
        "colab": {
          "base_uri": "https://localhost:8080/"
        },
        "id": "t66lVCJJHwbE",
        "outputId": "b31bce0f-295a-4cab-f28a-48d97f484035"
      },
      "execution_count": null,
      "outputs": [
        {
          "output_type": "stream",
          "name": "stdout",
          "text": [
            "[1] 3.758\n"
          ]
        }
      ]
    },
    {
      "cell_type": "code",
      "source": [
        "%%R\n",
        "x3<-iris$Petal.Length\n",
        "x3\n",
        "median(x3)"
      ],
      "metadata": {
        "colab": {
          "base_uri": "https://localhost:8080/"
        },
        "id": "ziRkCePHH0_B",
        "outputId": "f0d7db90-1c48-4178-d0af-9ad5e1d9a725"
      },
      "execution_count": null,
      "outputs": [
        {
          "output_type": "stream",
          "name": "stdout",
          "text": [
            "[1] 4.35\n"
          ]
        }
      ]
    },
    {
      "cell_type": "code",
      "source": [
        "%%R\n",
        "x3<-iris$Petal.Length\n",
        "x3\n",
        "v1<-quantile(x3,0.25)\n",
        "v1\n",
        "v2<-quantile(x3,0.75)\n",
        "v2\n",
        "interqrange<-v2-v1\n",
        "interqrange"
      ],
      "metadata": {
        "colab": {
          "base_uri": "https://localhost:8080/"
        },
        "id": "WDUAUMa6H5tL",
        "outputId": "63aa3dc6-4abe-4966-d901-f5e789d1619c"
      },
      "execution_count": null,
      "outputs": [
        {
          "output_type": "stream",
          "name": "stdout",
          "text": [
            "75% \n",
            "3.5 \n"
          ]
        }
      ]
    },
    {
      "cell_type": "code",
      "source": [
        "%%R\n",
        "x3<-iris$Petal.Length\n",
        "x3\n",
        "sd(x3)\n",
        "var(x3)"
      ],
      "metadata": {
        "colab": {
          "base_uri": "https://localhost:8080/"
        },
        "id": "JqXPV0fBILHf",
        "outputId": "5b823356-5ad5-4930-87e3-6a76c12308c6"
      },
      "execution_count": null,
      "outputs": [
        {
          "output_type": "stream",
          "name": "stdout",
          "text": [
            "[1] 3.116278\n"
          ]
        }
      ]
    },
    {
      "cell_type": "code",
      "source": [
        "%%R\n",
        "x4<-iris$Petal.Width\n",
        "x4\n",
        "diff(range(x4))"
      ],
      "metadata": {
        "colab": {
          "base_uri": "https://localhost:8080/"
        },
        "id": "Gj-zxayQIPCK",
        "outputId": "67ab70f8-27e4-4cb3-8478-82d6644d2e6d"
      },
      "execution_count": null,
      "outputs": [
        {
          "output_type": "stream",
          "name": "stdout",
          "text": [
            "[1] 2.4\n"
          ]
        }
      ]
    },
    {
      "cell_type": "code",
      "source": [
        "%%R\n",
        "x4<-iris$Petal.Width\n",
        "x4\n",
        "mean(x4)"
      ],
      "metadata": {
        "colab": {
          "base_uri": "https://localhost:8080/"
        },
        "id": "tQdNzP7vIZ02",
        "outputId": "68a4b2f0-5178-4ace-d7a3-c8a0ce08f526"
      },
      "execution_count": null,
      "outputs": [
        {
          "output_type": "stream",
          "name": "stdout",
          "text": [
            "[1] 1.199333\n"
          ]
        }
      ]
    },
    {
      "cell_type": "code",
      "source": [
        "%%R\n",
        "x4<-iris$Petal.Width\n",
        "x4\n",
        "median(x4)"
      ],
      "metadata": {
        "colab": {
          "base_uri": "https://localhost:8080/"
        },
        "id": "HDjrZW1KIdkv",
        "outputId": "545f31b6-30f6-49c5-b333-c51e1a7b7cbe"
      },
      "execution_count": null,
      "outputs": [
        {
          "output_type": "stream",
          "name": "stdout",
          "text": [
            "[1] 1.3\n"
          ]
        }
      ]
    },
    {
      "cell_type": "code",
      "source": [
        "%%R\n",
        "x4<-iris$Petal.Width\n",
        "x4\n",
        "v1<-quantile(x4,0.25)\n",
        "v1\n",
        "v2<-quantile(x4,0.75)\n",
        "v2\n",
        "interqrange<-v2-v1\n",
        "interqrange"
      ],
      "metadata": {
        "colab": {
          "base_uri": "https://localhost:8080/"
        },
        "id": "bZJPuolBIgV9",
        "outputId": "afa7e529-8256-4edd-c459-643a515f475c"
      },
      "execution_count": null,
      "outputs": [
        {
          "output_type": "stream",
          "name": "stdout",
          "text": [
            "75% \n",
            "1.5 \n"
          ]
        }
      ]
    },
    {
      "cell_type": "code",
      "source": [
        "%%R\n",
        "x4<-iris$Petal.Width\n",
        "x4\n",
        "sd(x4)\n",
        "var(x4)"
      ],
      "metadata": {
        "colab": {
          "base_uri": "https://localhost:8080/"
        },
        "id": "ZqGCK7JXIyPU",
        "outputId": "d684b564-87f4-43dc-b0e5-8a25d7729d91"
      },
      "execution_count": null,
      "outputs": [
        {
          "output_type": "stream",
          "name": "stdout",
          "text": [
            "[1] 0.5810063\n"
          ]
        }
      ]
    },
    {
      "cell_type": "code",
      "source": [
        "%%R\n",
        "summary(iris)"
      ],
      "metadata": {
        "colab": {
          "base_uri": "https://localhost:8080/"
        },
        "id": "TdHhY4VkI4Mf",
        "outputId": "293dd6d4-bbb7-489b-8e9b-61193b09f9ab"
      },
      "execution_count": null,
      "outputs": [
        {
          "output_type": "stream",
          "name": "stdout",
          "text": [
            "  Sepal.Length    Sepal.Width     Petal.Length    Petal.Width   \n",
            " Min.   :4.300   Min.   :2.000   Min.   :1.000   Min.   :0.100  \n",
            " 1st Qu.:5.100   1st Qu.:2.800   1st Qu.:1.600   1st Qu.:0.300  \n",
            " Median :5.800   Median :3.000   Median :4.350   Median :1.300  \n",
            " Mean   :5.843   Mean   :3.057   Mean   :3.758   Mean   :1.199  \n",
            " 3rd Qu.:6.400   3rd Qu.:3.300   3rd Qu.:5.100   3rd Qu.:1.800  \n",
            " Max.   :7.900   Max.   :4.400   Max.   :6.900   Max.   :2.500  \n",
            "       Species  \n",
            " setosa    :50  \n",
            " versicolor:50  \n",
            " virginica :50  \n",
            "                \n",
            "                \n",
            "                \n"
          ]
        }
      ]
    },
    {
      "cell_type": "code",
      "source": [
        "%%R\n",
        "my_mode<-function(x)\n",
        "{\n",
        "    unique_x<-unique(x)\n",
        "    tabulate_x<-tabulate(match(x,unique_x))\n",
        "    unique_x[tabulate_x == max(tabulate_x)]\n",
        "}\n",
        "v=c(1,2,3,4,5,1,2,3,1,1,2)\n",
        "my_mode(v)"
      ],
      "metadata": {
        "colab": {
          "base_uri": "https://localhost:8080/"
        },
        "id": "vS1wKQOgI9d5",
        "outputId": "3d474169-7b8a-43d9-aa3d-08b089a62365"
      },
      "execution_count": null,
      "outputs": [
        {
          "output_type": "stream",
          "name": "stdout",
          "text": [
            "[1] 1\n"
          ]
        }
      ]
    }
  ]
}