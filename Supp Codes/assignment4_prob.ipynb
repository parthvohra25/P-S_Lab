{
  "nbformat": 4,
  "nbformat_minor": 0,
  "metadata": {
    "colab": {
      "provenance": [],
      "collapsed_sections": []
    },
    "kernelspec": {
      "name": "ir",
      "display_name": "R"
    },
    "language_info": {
      "name": "R"
    }
  },
  "cells": [
    {
      "cell_type": "markdown",
      "source": [
        "QUESTION 1:"
      ],
      "metadata": {
        "id": "ShPxjJQLXJcD"
      }
    },
    {
      "cell_type": "code",
      "execution_count": 1,
      "metadata": {
        "colab": {
          "base_uri": "https://localhost:8080/",
          "height": 34
        },
        "id": "PBFIXgLtV38N",
        "outputId": "52be95f1-32b5-45c1-d4d0-6c5c64fab9e5"
      },
      "outputs": [
        {
          "output_type": "display_data",
          "data": {
            "text/html": [
              "0.88"
            ],
            "text/markdown": "0.88",
            "text/latex": "0.88",
            "text/plain": [
              "[1] 0.88"
            ]
          },
          "metadata": {}
        }
      ],
      "source": [
        "x <- c(0,1,2,3,4)\n",
        "f <- c(0.41,0.37,0.16,0.05,0.01)\n",
        "res=sum(x*f)\n",
        "res"
      ]
    },
    {
      "cell_type": "markdown",
      "source": [
        "METHOD 1 here we calculate the average by using the formula summation of x*p(x) where x is random variable and p(x) is its probability distribution."
      ],
      "metadata": {
        "id": "hW3H3UxaWAwm"
      }
    },
    {
      "cell_type": "code",
      "source": [
        "x <- c(0,1,2,3,4)\n",
        "f <- c(0.41,0.37,0.16,0.05,0.01)\n",
        "weighted.mean(x,f)"
      ],
      "metadata": {
        "colab": {
          "base_uri": "https://localhost:8080/",
          "height": 34
        },
        "id": "lQvWhOsYWCAT",
        "outputId": "c46dc94f-7883-4807-a3e3-ba50c37efb8f"
      },
      "execution_count": 3,
      "outputs": [
        {
          "output_type": "display_data",
          "data": {
            "text/html": [
              "0.88"
            ],
            "text/markdown": "0.88",
            "text/latex": "0.88",
            "text/plain": [
              "[1] 0.88"
            ]
          },
          "metadata": {}
        }
      ]
    },
    {
      "cell_type": "code",
      "source": [
        "x <- c(0,1,2,3,4)\n",
        "f <- c(0.41,0.37,0.16,0.05,0.01)\n",
        "c(x%*%f)"
      ],
      "metadata": {
        "colab": {
          "base_uri": "https://localhost:8080/",
          "height": 34
        },
        "id": "cYN0DsAeWUMH",
        "outputId": "8847d413-6f3d-4b9e-d47e-2e7d81d29e3b"
      },
      "execution_count": 4,
      "outputs": [
        {
          "output_type": "display_data",
          "data": {
            "text/html": [
              "0.88"
            ],
            "text/markdown": "0.88",
            "text/latex": "0.88",
            "text/plain": [
              "[1] 0.88"
            ]
          },
          "metadata": {}
        }
      ]
    },
    {
      "cell_type": "markdown",
      "source": [
        "method 3 this operator is used to matrix multiply taking first matrix as x and second one as f."
      ],
      "metadata": {
        "id": "EiXeVg2UW1KC"
      }
    },
    {
      "cell_type": "markdown",
      "source": [
        "QUESTION 2:"
      ],
      "metadata": {
        "id": "H56V8XpHXPXZ"
      }
    },
    {
      "cell_type": "code",
      "source": [
        "#with error\n",
        "f<-function(t){0.1*t*exp(-0.1*t)}\n",
        "exp<-integrate(f,0,Inf)\n",
        "print(exp)\n",
        "#without error\n",
        "print(exp$value) #this prints answer without any error"
      ],
      "metadata": {
        "colab": {
          "base_uri": "https://localhost:8080/"
        },
        "id": "lbAuEWEAWfxZ",
        "outputId": "01a229b8-7c80-4900-e3f8-998eaa2739e7"
      },
      "execution_count": 8,
      "outputs": [
        {
          "output_type": "stream",
          "name": "stdout",
          "text": [
            "10 with absolute error < 6.7e-05\n",
            "[1] 10\n"
          ]
        }
      ]
    },
    {
      "cell_type": "markdown",
      "source": [
        "here we simply found the expected value by integrating from -inf to inf and since the function is 0 from -inf to 0 the integration is done from 0 to inf"
      ],
      "metadata": {
        "id": "R1gBxtxAYr3f"
      }
    },
    {
      "cell_type": "markdown",
      "source": [
        "question 3:"
      ],
      "metadata": {
        "id": "4r6-rgV6ZGyl"
      }
    },
    {
      "cell_type": "code",
      "source": [
        "x<-c(0,1,2,3)\n",
        "y=10*x-12\n",
        "p<-c(0.1,0.2,0.2,0.5)\n",
        "res=sum(y*p)\n",
        "print(res)"
      ],
      "metadata": {
        "colab": {
          "base_uri": "https://localhost:8080/"
        },
        "id": "zndemOJ_X079",
        "outputId": "572afdbb-7591-411d-855a-9d1fa7cb6f07"
      },
      "execution_count": 12,
      "outputs": [
        {
          "output_type": "stream",
          "name": "stdout",
          "text": [
            "[1] 9\n"
          ]
        }
      ]
    },
    {
      "cell_type": "markdown",
      "source": [
        "here we simply found the function for net revenue.\n",
        "total profit=12x+2(3-x)\n",
        "total loss=6*3=12\n",
        "net revenue=12x+2(3-x)-12=10x-12"
      ],
      "metadata": {
        "id": "MEvyF5YkbVJB"
      }
    },
    {
      "cell_type": "markdown",
      "source": [
        "question 4:"
      ],
      "metadata": {
        "id": "OVCxKZtrbxag"
      }
    },
    {
      "cell_type": "code",
      "source": [
        "#first moment\n",
        "first_moment<-function(x){0.5*x*exp(-abs(x))}\n",
        "f<-integrate(first_moment,1,10)\n",
        "print(f$value) #mean\n",
        "#second moment\n",
        "second_moment<-function(x){0.5*x*x*exp(-abs(x))}\n",
        "s<-integrate(second_moment,1,10)\n",
        "variance<-s$value-(f.mean$value)^2\n",
        "print(variance)\n",
        "#fifth moment\n",
        "fifth_moment<-function(x){0.5*(x^5)*exp(-abs(x))}\n",
        "new<-integrate(fifth_moment,1,10)\n",
        "print(new$value)"
      ],
      "metadata": {
        "colab": {
          "base_uri": "https://localhost:8080/"
        },
        "id": "77hKJTtibghV",
        "outputId": "08bb65bd-ec0f-4e3b-c58d-3408e929d779"
      },
      "execution_count": 22,
      "outputs": [
        {
          "output_type": "stream",
          "name": "stdout",
          "text": [
            "[1] 0.3676297\n",
            "[1] 0.7817776\n",
            "[1] 55.93919\n"
          ]
        }
      ]
    },
    {
      "cell_type": "markdown",
      "source": [
        "we calculated the mean which is equal to first moment\n",
        "variance is second moment minus square of first moment\n",
        "moment=E(x^k)\n",
        "mean=E(x)\n",
        "variance=E(x^2)-(E(x))^2"
      ],
      "metadata": {
        "id": "CPfhLv5Xe50F"
      }
    },
    {
      "cell_type": "markdown",
      "source": [
        "question 5:"
      ],
      "metadata": {
        "id": "gq1sdyzgfQqU"
      }
    },
    {
      "cell_type": "code",
      "source": [
        "f<-function(y){(3/4)*((1/4)^(sqrt(y)-1))}\n",
        "x=3\n",
        "y=x^2\n",
        "f(y)\n",
        "print(f(y))\n",
        "x<-c(1,2,3,4,5)\n",
        "y=x^2\n",
        "expected_value=sum(y*f(y))\n",
        "print(expected_value)\n",
        "exp<-sum(y*y*f(y))\n",
        "exp\n",
        "variance<-exp-(expected_value)^2\n",
        "print(variance)"
      ],
      "metadata": {
        "colab": {
          "base_uri": "https://localhost:8080/",
          "height": 104
        },
        "id": "k4UFkDIffTQT",
        "outputId": "613a9192-d88a-4539-d491-37cc5755324d"
      },
      "execution_count": 30,
      "outputs": [
        {
          "output_type": "display_data",
          "data": {
            "text/html": [
              "0.046875"
            ],
            "text/markdown": "0.046875",
            "text/latex": "0.046875",
            "text/plain": [
              "[1] 0.046875"
            ]
          },
          "metadata": {}
        },
        {
          "output_type": "stream",
          "name": "stdout",
          "text": [
            "[1] 0.046875\n",
            "[1] 2.182617\n"
          ]
        },
        {
          "output_type": "display_data",
          "data": {
            "text/html": [
              "12.3779296875"
            ],
            "text/markdown": "12.3779296875",
            "text/latex": "12.3779296875",
            "text/plain": [
              "[1] 12.37793"
            ]
          },
          "metadata": {}
        },
        {
          "output_type": "stream",
          "name": "stdout",
          "text": [
            "[1] 7.614112\n"
          ]
        }
      ]
    },
    {
      "cell_type": "markdown",
      "source": [
        "here it is given that y=x^2 and hence we will put x=sqrt(y) and put that in the function to calculate f(y).\n",
        "hence we find the expected value which is sum(x*f(x)) and variance which is E(x^2) - E(x)."
      ],
      "metadata": {
        "id": "CeNa_7cyirlf"
      }
    }
  ]
}